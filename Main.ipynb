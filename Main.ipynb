{
 "cells": [
  {
   "cell_type": "markdown",
   "metadata": {},
   "source": [
    "### Joint Photograph Experts Group (.jpg ou .jpeg)\n",
    "\n",
    "O JPEG incorpora o formato de compressão com perda JPEG, que oferece compressão superior para imagens matriciais. Desde sua introdução em 1992, o JPEG se tornou o formato mais usado no mundo.\n",
    "\n",
    "* Cores: Até 24-bits;\n",
    "* Compressão: JPEG;\n",
    "* Formato numérico: Big-endian;\n",
    "* Desenvolvedores: C-Cube Microsystems.\n",
    "\n",
    "#### Estrutura interna\n",
    "\n",
    "Segue uma tabela com algumas estruturas comuns definidas no JPEG:\n",
    "\n",
    "<table>\n",
    "    <tr>\n",
    "        <th>Nome da estrutura</th>\n",
    "        <th>Tamanho</th>\n",
    "        <th>Propósito</th>\n",
    "    </tr>\n",
    "    <tr>\n",
    "        <th>Start of Image (SOI)</th>\n",
    "        <th>0 byte</th>\n",
    "        <th>Indica o começo da imagem</th>\n",
    "    </tr>\n",
    "    <tr>\n",
    "        <th>Start of Frame (SOF1 ou SOF2)</th>\n",
    "        <th>Variável</th>\n",
    "        <th>Indica que é um JPEG basead em DCT (transformada discreta de cosseno) progressivo ou de linha de base, e contém largura, altura, número de componentes e subamostragem</th>\n",
    "    </tr>\n",
    "    <tr>\n",
    "        <th>Define Huffman Table (DHT)</th>\n",
    "        <th>Variável</th>\n",
    "        <th>Especifica uma ou mais tabelas de Huffman</th>\n",
    "    </tr>\n",
    "    <tr>\n",
    "        <th>Define Quantization Table (DQT)</th>\n",
    "        <th>Variável</th>\n",
    "        <th>Especifica uma ou mais tabelas de quantização</th>\n",
    "    </tr>\n",
    "    <tr>\n",
    "        <th>Start of Scan (SOS)</th>\n",
    "        <th>Variável</th>\n",
    "        <th>Indica um scan de cima para baixo da imagem</th>\n",
    "    </tr>\n",
    "    <tr>\n",
    "        <th>End of Image (EOI)</th>\n",
    "        <th>0 byte</th>\n",
    "        <th>Indica o fim da imagem</th>\n",
    "    </tr>\n",
    "</table>"
   ]
  },
  {
   "cell_type": "markdown",
   "metadata": {},
   "source": [
    "### Referências\n",
    "- https://archive.org/details/mac_Graphics_File_Formats_Second_Edition_1996/page/n537/mode/2up\n",
    "- [Como: Codificar e decodificar uma imagem JPEG](https://docs.microsoft.com/pt-br/dotnet/framework/wpf/graphics-multimedia/how-to-encode-and-decode-a-jpeg-image)\n",
    "- [Compressão sem Perda de Imagens Digitais](http://www.dpi.inpe.br/~carlos/Academicos/Cursos/Pdi/SemPerdas.htm)\n",
    "- [Transformada Discreta de Cosseno: uma aplicação da Álgebra Linear na compressão de imagens do formato JPEG](https://sites.icmc.usp.br/frasson/jpeg/jpeg.html)\n",
    "- [Vídeo Heitor](https://www.youtube.com/watch?v=Z3bPUCNPuXU)"
   ]
  }
 ],
 "metadata": {
  "kernelspec": {
   "display_name": "Python 3.7.4 64-bit",
   "language": "python",
   "name": "python37464bite7e0c22c40f84eb19ddc26a2bae24920"
  },
  "language_info": {
   "codemirror_mode": {
    "name": "ipython",
    "version": 3
   },
   "file_extension": ".py",
   "mimetype": "text/x-python",
   "name": "python",
   "nbconvert_exporter": "python",
   "pygments_lexer": "ipython3",
   "version": "3.7.4"
  }
 },
 "nbformat": 4,
 "nbformat_minor": 2
}
