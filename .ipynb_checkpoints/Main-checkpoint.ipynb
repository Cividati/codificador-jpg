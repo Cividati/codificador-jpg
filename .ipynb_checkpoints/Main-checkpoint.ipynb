{
 "cells": [
  {
   "cell_type": "markdown",
   "metadata": {},
   "source": [
    "### Joint Photograph Experts Group (.jpg ou .jpeg)\n",
    "\n",
    "O JPEG incorpora o formato de compressão com perda JPEG, que oferece compressão superior para imagens matriciais. Desde sua introdução em 1992, o JPEG se tornou o formato mais usado no mundo.\n",
    "\n",
    "* Cores: Até 24-bits;\n",
    "* Compressão: JPEG;\n",
    "* Formato numérico: Big-endian;\n",
    "* Desenvolvedores: C-Cube Microsystems.\n",
    "\n",
    "#### Estrutura interna\n",
    "\n",
    "Segue uma tabela com algumas estruturas comuns definidas no JPEG:\n",
    "\n",
    "<table>\n",
    "    <tr>\n",
    "        <th>Nome da estrutura</th>\n",
    "        <th>Tamanho</th>\n",
    "        <th>Propósito</th>\n",
    "    </tr>\n",
    "    <tr>\n",
    "        <th>Start of Image (SOI)</th>\n",
    "        <th>0 byte</th>\n",
    "        <th>Indica o começo da imagem</th>\n",
    "    </tr>\n",
    "    <tr>\n",
    "        <th>Start of Frame (SOF1 ou SOF2)</th>\n",
    "        <th>Variável</th>\n",
    "        <th>Indica que é um JPEG basead em DCT (transformada discreta de cosseno) progressivo ou de linha de base, e contém largura, altura, número de componentes e subamostragem</th>\n",
    "    </tr>\n",
    "    <tr>\n",
    "        <th>Define Huffman Table (DHT)</th>\n",
    "        <th>Variável</th>\n",
    "        <th>Especifica uma ou mais tabelas de Huffman</th>\n",
    "    </tr>\n",
    "    <tr>\n",
    "        <th>Define Quantization Table (DQT)</th>\n",
    "        <th>Variável</th>\n",
    "        <th>Especifica uma ou mais tabelas de quantização</th>\n",
    "    </tr>\n",
    "    <tr>\n",
    "        <th>Start of Scan (SOS)</th>\n",
    "        <th>Variável</th>\n",
    "        <th>Indica um scan de cima para baixo da imagem</th>\n",
    "    </tr>\n",
    "    <tr>\n",
    "        <th>End of Image (EOI)</th>\n",
    "        <th>0 byte</th>\n",
    "        <th>Indica o fim da imagem</th>\n",
    "    </tr>\n",
    "</table>"
   ]
  },
  {
   "cell_type": "code",
   "execution_count": 4,
   "metadata": {},
   "outputs": [],
   "source": [
    "import matplotlib.pyplot as plt\n",
    "import numpy as np\n",
    "from skimage.color import rgb2ycbcr"
   ]
  },
  {
   "cell_type": "code",
   "execution_count": 5,
   "metadata": {},
   "outputs": [],
   "source": [
    "def convert_colors(img):\n",
    "    l, c, p = img.shape\n",
    "    new_image = np.zeros(shape=(l, c, p), dtype=np.uint8)\n",
    "    for i in range(l):\n",
    "        for j in range(c):\n",
    "            new_image[i][j][0] = 0.257*img[i][j][0] + 0.505*img[i][j][1] + 0.098*img[i][j][2] + 16\n",
    "            new_image[i][j][1] = -0.148*img[i][j][0] - 0.291*img[i][j][1] + 0.439*img[i][j][2] + 128\n",
    "            new_image[i][j][2] = 0.439*img[i][j][0] - 0.368*img[i][j][1] - 0.071*img[i][j][2] + 128\n",
    "\n",
    "#Y = 0.257*R + 0.505*G + 0.098*B + 16\n",
    "#Cb = -0.148*R - 0.291*G + 0.439*B + 128\n",
    "#Cr = 0.439*R - 0.368*G - 0.071*B + 128\n",
    "\n",
    "    return new_image"
   ]
  },
  {
   "cell_type": "code",
   "execution_count": 6,
   "metadata": {
    "scrolled": true
   },
   "outputs": [
    {
     "data": {
      "text/plain": [
       "<matplotlib.image.AxesImage at 0x20d10f14408>"
      ]
     },
     "execution_count": 6,
     "metadata": {},
     "output_type": "execute_result"
    },
    {
     "data": {
      "image/png": "[encoded data removed]",
      "text/plain": [
       "<Figure size 576x576 with 2 Axes>"
      ]
     },
     "metadata": {
      "needs_background": "light"
     },
     "output_type": "display_data"
    }
   ],
   "source": [
    "l, c, p = 2, 2, 3\n",
    "out_img = np.zeros(shape=(l, c, p), dtype=np.uint8)\n",
    "out_img[0, 0] = 255,   0,   0\n",
    "out_img[0, 1] =   0, 255,   0\n",
    "out_img[1, 0] =   0,   0, 255\n",
    "out_img[1, 1] = 255, 255, 255\n",
    "\n",
    "plt.figure(figsize=(8,8))\n",
    "plt.subplot(1,2,1)\n",
    "plt.imshow(out_img)\n",
    "\n",
    "new_img = np.zeros(shape=(l, c, p), dtype=np.uint8)\n",
    "new_img = convert_colors(out_img)\n",
    "\n",
    "plt.subplot(1,2,2)\n",
    "plt.imshow(new_img)"
   ]
  },
  {
   "cell_type": "markdown",
   "metadata": {},
   "source": [
    "### Referências\n",
    "- https://archive.org/details/mac_Graphics_File_Formats_Second_Edition_1996/page/n537/mode/2up\n",
    "- [Como: Codificar e decodificar uma imagem JPEG](https://docs.microsoft.com/pt-br/dotnet/framework/wpf/graphics-multimedia/how-to-encode-and-decode-a-jpeg-image)\n",
    "- [Compressão sem Perda de Imagens Digitais](http://www.dpi.inpe.br/~carlos/Academicos/Cursos/Pdi/SemPerdas.htm)\n",
    "- [Transformada Discreta de Cosseno: uma aplicação da Álgebra Linear na compressão de imagens do formato JPEG](https://sites.icmc.usp.br/frasson/jpeg/jpeg.html)\n",
    "- [Vídeo Heitor](https://www.youtube.com/watch?v=Z3bPUCNPuXU)\n",
    "- [Chroma Subsampling in NumPy](https://medium.com/@sddkal/chroma-subsampling-in-numpy-47bf2bb5af83)"
   ]
  }
 ],
 "metadata": {
  "kernelspec": {
   "display_name": "Python 3.7.4 64-bit",
   "language": "python",
   "name": "python37464bite7e0c22c40f84eb19ddc26a2bae24920"
  },
  "language_info": {
   "codemirror_mode": {
    "name": "ipython",
    "version": 3
   },
   "file_extension": ".py",
   "mimetype": "text/x-python",
   "name": "python",
   "nbconvert_exporter": "python",
   "pygments_lexer": "ipython3",
   "version": "3.7.4"
  }
 },
 "nbformat": 4,
 "nbformat_minor": 2
}
